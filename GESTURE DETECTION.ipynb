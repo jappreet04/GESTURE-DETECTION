{
 "cells": [
  {
   "cell_type": "code",
   "execution_count": null,
   "id": "7bad7ba1",
   "metadata": {},
   "outputs": [],
   "source": [
    "!pip install pyautogui"
   ]
  },
  {
   "cell_type": "code",
   "execution_count": null,
   "id": "25592127",
   "metadata": {},
   "outputs": [],
   "source": [
    "import cv2\n",
    "import numpy as np \n",
    "import math\n",
    "import pyautogui as p\n",
    "import time as t"
   ]
  },
  {
   "cell_type": "code",
   "execution_count": null,
   "id": "61a7a276",
   "metadata": {},
   "outputs": [],
   "source": [
    "cap = cv2.VideoCapture(0,cv2.CAP_DSHOW)\n"
   ]
  },
  {
   "cell_type": "code",
   "execution_count": null,
   "id": "d9dbd731",
   "metadata": {},
   "outputs": [],
   "source": [
    "def nothing(x):\n",
    "    pass"
   ]
  },
  {
   "cell_type": "code",
   "execution_count": null,
   "id": "d8a3c9f0",
   "metadata": {},
   "outputs": [],
   "source": [
    "cv2.namedWindow(\"GESTURE DETECTION\",cv2.WINDOW_NORMAL)\n",
    "cv2.resizeWindow(\"GESTURE DETECTION\", (300,300))\n",
    "cv2.createTrackbar(\"Thresh\", \"GESTURE DETECTION\", 0, 255, nothing)\n"
   ]
  },
  {
   "cell_type": "code",
   "execution_count": null,
   "id": "f0d1838f",
   "metadata": {},
   "outputs": [],
   "source": [
    "cv2.createTrackbar(\"Lower_H\", \"GESTURE DETECTION\", 0, 255, nothing)\n",
    "cv2.createTrackbar(\"Lower_S\", \"GESTURE DETECTION\", 0, 255, nothing)\n",
    "cv2.createTrackbar(\"Lower_V\", \"GESTURE DETECTION\", 0, 255, nothing)\n",
    "cv2.createTrackbar(\"Upper_H\", \"GESTURE DETECTION\", 255, 255, nothing)\n",
    "cv2.createTrackbar(\"Upper_S\", \"GESTURE DETECTION\", 255, 255, nothing)\n",
    "cv2.createTrackbar(\"Upper_V\", \"GESTURE DETECTION\", 255, 255, nothing)\n"
   ]
  },
  {
   "cell_type": "code",
   "execution_count": null,
   "id": "a585358b",
   "metadata": {},
   "outputs": [],
   "source": [
    "while True:\n",
    "    _,frame = cap.read()\n",
    "    frame = cv2.flip(frame,2)\n",
    "    frame = cv2.resize(frame,(600,500))\n",
    "    cv2.rectangle(frame, (0,1), (300,500), (255, 0, 0), 0)\n",
    "    crop_image = frame[1:500, 0:300]\n",
    "    \n",
    "    \n",
    "    hsv = cv2.cvtColor(crop_image, cv2.COLOR_BGR2HSV)\n",
    "    \n",
    "    l_h = cv2.getTrackbarPos(\"Lower_H\", \"GESTURE DETECTION\")\n",
    "    l_s = cv2.getTrackbarPos(\"Lower_S\", \"GESTURE DETECTION\")\n",
    "    l_v = cv2.getTrackbarPos(\"Lower_V\", \"GESTURE DETECTION\")\n",
    "\n",
    "    u_h = cv2.getTrackbarPos(\"Upper_H\", \"GESTURE DETECTION\")\n",
    "    u_s = cv2.getTrackbarPos(\"Upper_S\", \"GESTURE DETECTION\")\n",
    "    u_v = cv2.getTrackbarPos(\"Upper_V\", \"GESTURE DETECTION\")\n",
    "    \n",
    "    lower_bound = np.array([l_h, l_s, l_v])\n",
    "    upper_bound = np.array([u_h, u_s, u_v])\n",
    "    \n",
    "    \n",
    "    mask = cv2.inRange(hsv, lower_bound, upper_bound)\n",
    "    \n",
    "    filtr = cv2.bitwise_and(crop_image, crop_image, mask=mask)\n",
    "    \n",
    "    \n",
    "    mask1  = cv2.bitwise_not(mask)\n",
    "    m_g = cv2.getTrackbarPos(\"Thresh\", \"GESTURE DETECTION\") \n",
    "    ret,thresh = cv2.threshold(mask1,m_g,255,cv2.THRESH_BINARY)\n",
    "    dilata = cv2.dilate(thresh,(3,3),iterations = 6)\n",
    "    \n",
    "    \n",
    "    \n",
    "    cnts,hier = cv2.findContours(thresh,cv2.RETR_TREE,cv2.CHAIN_APPROX_SIMPLE)\n",
    "    \n",
    "    \n",
    "    try:\n",
    "        \n",
    "        cm = max(cnts, key=lambda x: cv2.contourArea(x))\n",
    "    \n",
    "        epsilon = 0.0005*cv2.arcLength(cm,True)\n",
    "        data= cv2.approxPolyDP(cm,epsilon,True)\n",
    "    \n",
    "        hull = cv2.convexHull(cm)\n",
    "        \n",
    "        cv2.drawContours(crop_image, [cm], -1, (50, 50, 150), 2)\n",
    "        cv2.drawContours(crop_image, [hull], -1, (0, 255, 0), 2)\n",
    "        \n",
    "        \n",
    "        hull = cv2.convexHull(cm, returnPoints=False)\n",
    "        defects = cv2.convexityDefects(cm, hull)\n",
    "        count_defects = 0\n",
    "       \n",
    "        for i in range(defects.shape[0]):\n",
    "            s,e,f,d = defects[i,0]\n",
    "           \n",
    "            start = tuple(cm[s][0])\n",
    "            end = tuple(cm[e][0])\n",
    "            far = tuple(cm[f][0])\n",
    "           \n",
    "            a = math.sqrt((end[0] - start[0]) ** 2 + (end[1] - start[1]) ** 2)\n",
    "            b = math.sqrt((far[0] - start[0]) ** 2 + (far[1] - start[1]) ** 2)\n",
    "            c = math.sqrt((end[0] - far[0]) ** 2 + (end[1] - far[1]) ** 2)\n",
    "            angle = (math.acos((b ** 2 + c ** 2 - a ** 2) / (2 * b * c)) * 180) / 3.14\n",
    "           \n",
    "            if angle <= 50:\n",
    "                count_defects += 1\n",
    "                cv2.circle(crop_image,far,5,[255,255,255],-1)\n",
    "        \n",
    "        print(\"count==\",count_defects)\n",
    "        \n",
    "      \n",
    "        if count_defects == 0:\n",
    "            \n",
    "            cv2.putText(frame, \" \", (50, 50), cv2.FONT_HERSHEY_SIMPLEX, 2,(0,0,255),2)\n",
    "        elif count_defects == 1:\n",
    "            \n",
    "            p.press(\"space\")\n",
    "            cv2.putText(frame, \"Play/Pause\", (50, 50), cv2.FONT_HERSHEY_SIMPLEX, 2,(0,0,255), 2)\n",
    "        elif count_defects == 2:\n",
    "            p.press(\"up\")\n",
    "            \n",
    "            cv2.putText(frame, \"Volume UP\", (5, 50), cv2.FONT_HERSHEY_SIMPLEX, 2,(0,0,255), 2)\n",
    "        elif count_defects == 3:\n",
    "            p.press(\"down\")\n",
    "            \n",
    "            cv2.putText(frame, \"Volume Down\", (50, 50), cv2.FONT_HERSHEY_SIMPLEX, 2,(0,0,255), 2)\n",
    "        elif count_defects == 4:\n",
    "            p.press(\"right\")\n",
    "            \n",
    "            cv2.putText(frame, \"Forward\", (50, 50), cv2.FONT_HERSHEY_SIMPLEX, 2,(0,0,255), 2)\n",
    "        else:\n",
    "            pass\n",
    "           \n",
    "    except:\n",
    "        pass\n",
    "   \n",
    "    cv2.imshow(\"Thresh\", thresh)\n",
    " \n",
    "    cv2.imshow(\"filter==\",filtr)\n",
    "    cv2.imshow(\"Result\", frame)\n",
    "\n",
    "    key = cv2.waitKey(25) &0xFF    \n",
    "    if key == 27: \n",
    "        break"
   ]
  },
  {
   "cell_type": "code",
   "execution_count": null,
   "id": "5060ef4f",
   "metadata": {},
   "outputs": [],
   "source": [
    "cap.release()\n",
    "cv2.destroyAllWindows()"
   ]
  },
  {
   "cell_type": "code",
   "execution_count": null,
   "id": "9785b1d1",
   "metadata": {},
   "outputs": [],
   "source": []
  }
 ],
 "metadata": {
  "kernelspec": {
   "display_name": "Python 3 (ipykernel)",
   "language": "python",
   "name": "python3"
  },
  "language_info": {
   "codemirror_mode": {
    "name": "ipython",
    "version": 3
   },
   "file_extension": ".py",
   "mimetype": "text/x-python",
   "name": "python",
   "nbconvert_exporter": "python",
   "pygments_lexer": "ipython3",
   "version": "3.10.2"
  }
 },
 "nbformat": 4,
 "nbformat_minor": 5
}
